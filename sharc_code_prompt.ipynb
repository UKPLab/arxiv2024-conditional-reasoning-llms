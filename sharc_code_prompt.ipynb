{
 "cells": [
  {
   "cell_type": "code",
   "execution_count": 1,
   "metadata": {},
   "outputs": [],
   "source": [
    "import json\n",
    "import os\n",
    "from glob import glob\n",
    "\n",
    "import torch\n",
    "from langchain_community.chat_models import AzureChatOpenAI\n",
    "from langchain_community.llms.huggingface_pipeline import HuggingFacePipeline\n",
    "from tqdm.notebook import tqdm\n",
    "\n",
    "\n",
    "from src.sharc.code_prompt import CodePrompt\n",
    "from src.sharc.evaluation import evaluate, save_confusion_matrix\n",
    "from src.sharc.utils import SharcLabel, create_conv_history, get_sharc_label\n",
    "from src.utils import get_current_time"
   ]
  },
  {
   "cell_type": "code",
   "execution_count": 2,
   "metadata": {},
   "outputs": [],
   "source": [
    "seed = 0\n",
    "num_inference_demonstrations_per_class = 2"
   ]
  },
  {
   "cell_type": "code",
   "execution_count": 3,
   "metadata": {},
   "outputs": [],
   "source": [
    "with open(\"data/sharc1-official/json/sharc_train.json\") as f:\n",
    "    train = json.load(f)\n",
    "\n",
    "with open(\"data/sharc1-official/json/sharc_dev_ih.json\") as f:\n",
    "    dev = json.load(f)"
   ]
  },
  {
   "cell_type": "code",
   "execution_count": null,
   "metadata": {},
   "outputs": [],
   "source": [
    "os.environ[\"OPENAI_API_TYPE\"] = \"\"\n",
    "os.environ[\"OPENAI_API_VERSION\"] = \"\"\n",
    "os.environ[\"OPENAI_API_BASE\"] = \"\"\n",
    "os.environ[\"OPENAI_API_KEY\"] = \"\"\n",
    "\n",
    "llm_name = \"gpt-35-turbo-0301\"\n",
    "llm = AzureChatOpenAI(deployment_name=llm_name, temperature=0.0)"
   ]
  },
  {
   "cell_type": "code",
   "execution_count": 6,
   "metadata": {},
   "outputs": [],
   "source": [
    "with open(\"data/sharc1-official/ICL/nl2code/examples.json\") as f:\n",
    "    demonstrations = json.load(f)\n",
    "for x in demonstrations:\n",
    "    if x[\"label\"] == \"Yes\":\n",
    "        x[\"label\"] = \"True\"\n",
    "    elif x[\"label\"] == \"No\":\n",
    "        x[\"label\"] = \"False\"\n",
    "    else:\n",
    "        x[\"label\"] = \"None\""
   ]
  },
  {
   "cell_type": "code",
   "execution_count": 7,
   "metadata": {},
   "outputs": [],
   "source": [
    "model = CodePrompt(\n",
    "    llm,\n",
    "    demonstrations,\n",
    "    num_nl2code_demonstations=5,\n",
    "    num_inference_demonstrations_per_class=num_inference_demonstrations_per_class,\n",
    "    seed=seed,\n",
    ")"
   ]
  },
  {
   "cell_type": "code",
   "execution_count": 8,
   "metadata": {},
   "outputs": [],
   "source": [
    "batch_size = 1"
   ]
  },
  {
   "cell_type": "code",
   "execution_count": null,
   "metadata": {},
   "outputs": [],
   "source": [
    "list_y = []\n",
    "list_responses = []\n",
    "list_intermediate_responses = []\n",
    "list_y_pred = []\n",
    "list_prompts = []\n",
    "for i in tqdm(range(0, len(dev), batch_size)):\n",
    "    batch = dev[i : i + batch_size]\n",
    "    list_y.extend([get_sharc_label(x[\"answer\"]) for x in batch])\n",
    "\n",
    "    for x in batch:\n",
    "        x[\"doc\"] = x[\"snippet\"]  # the chain calls it doc\n",
    "        x['history'] = create_conv_history(x[\"history\"]) # flatten the list\n",
    "    # delete all keys except question, scenario, doc, history\n",
    "    clean_batch = [\n",
    "        {k: x[k] for k in [\"question\", \"scenario\", \"doc\", \"history\"]} for x in batch\n",
    "    ]\n",
    "\n",
    "    responses, prompts = model(clean_batch)\n",
    "\n",
    "    list_responses.extend(responses)\n",
    "    for r in responses:\n",
    "        try:\n",
    "            list_y_pred.append(model.process_response(r))\n",
    "        except:\n",
    "            list_y_pred.append(SharcLabel.NOT_ENOUGH_INFO)\n",
    "    list_prompts.extend(prompts)\n"
   ]
  },
  {
   "cell_type": "code",
   "execution_count": null,
   "metadata": {},
   "outputs": [],
   "source": [
    "results = evaluate(list_y, list_y_pred)"
   ]
  },
  {
   "cell_type": "code",
   "execution_count": 11,
   "metadata": {},
   "outputs": [],
   "source": [
    "output_path = os.path.join(\n",
    "    \"outputs/sharc/ICL/CodePrompt\",\n",
    "    llm_name,\n",
    "    f\"ICL_5-{num_inference_demonstrations_per_class}\",\n",
    "    f\"sharc_dev_ih\",\n",
    "    f\"seed_{seed}\",\n",
    ")\n",
    "\n",
    "os.makedirs(output_path, exist_ok=True)"
   ]
  },
  {
   "cell_type": "code",
   "execution_count": null,
   "metadata": {},
   "outputs": [],
   "source": [
    "with open(os.path.join(output_path, \"responses.json\"), \"w\") as f:\n",
    "    json.dump(list_responses, f)\n",
    "with open(os.path.join(output_path, \"predictions.json\"), \"w\") as f:\n",
    "    json.dump(list_y_pred, f)\n",
    "# store results\n",
    "with open(os.path.join(output_path, \"results.json\"), \"w\") as f:\n",
    "    json.dump(results, f, indent=4)\n",
    "# store timestamp\n",
    "with open(os.path.join(output_path, \"timestamp.txt\"), \"w\") as f:\n",
    "    f.write(get_current_time())\n",
    "# store confusion matrix\n",
    "save_confusion_matrix(results[\"confusion_matrix\"], output_path)\n",
    "\n",
    "print(\"\\n\\n## Results ##\")\n",
    "print(json.dumps(results, indent=4))"
   ]
  },
  {
   "cell_type": "code",
   "execution_count": null,
   "metadata": {},
   "outputs": [],
   "source": []
  }
 ],
 "metadata": {
  "kernelspec": {
   "display_name": "code_prompting",
   "language": "python",
   "name": "python3"
  },
  "language_info": {
   "codemirror_mode": {
    "name": "ipython",
    "version": 3
   },
   "file_extension": ".py",
   "mimetype": "text/x-python",
   "name": "python",
   "nbconvert_exporter": "python",
   "pygments_lexer": "ipython3",
   "version": "3.9.18"
  }
 },
 "nbformat": 4,
 "nbformat_minor": 2
}
